{
  "nbformat": 4,
  "nbformat_minor": 0,
  "metadata": {
    "colab": {
      "provenance": [],
      "include_colab_link": true
    },
    "kernelspec": {
      "name": "python3",
      "display_name": "Python 3"
    },
    "language_info": {
      "name": "python"
    }
  },
  "cells": [
    {
      "cell_type": "markdown",
      "metadata": {
        "id": "view-in-github",
        "colab_type": "text"
      },
      "source": [
        "<a href=\"https://colab.research.google.com/github/carolyna-s/CS123A_Project/blob/main/projectmethods.ipynb\" target=\"_parent\"><img src=\"https://colab.research.google.com/assets/colab-badge.svg\" alt=\"Open In Colab\"/></a>"
      ]
    },
    {
      "cell_type": "markdown",
      "source": [
        "Edited & Modified from course material"
      ],
      "metadata": {
        "id": "XPbm2EcyIs_i"
      }
    },
    {
      "cell_type": "markdown",
      "source": [
        "# AI/ML methods notebook\n",
        "\n"
      ],
      "metadata": {
        "id": "QG3X-tGIpkMA"
      }
    },
    {
      "cell_type": "code",
      "source": [
        "!pip install scikit-learn --no-cache\n",
        "!pip install scanpy --no-cache\n",
        "!pip install gseapy --no-cache\n",
        "!pip install pybiomart==0.1 --no-cache\n",
        "!pip install sklearn_som  --no-cache\n",
        "!pip install pandas --no-cache\n",
        "!pip install numpy --no-cache\n",
        "!pip install matplotlib --no-cache\n",
        "!pip install sklearn-som --no-cache\n",
        "!pip install pyDeseq2 --no-cache\n",
        "!pip install Ensembl_converter --no-cache\n",
        "!pip install shap"
      ],
      "metadata": {
        "id": "bb8-MziuOeFs",
        "colab": {
          "base_uri": "https://localhost:8080/"
        },
        "outputId": "105e766a-c955-4793-c348-63b8e906c2e0"
      },
      "execution_count": null,
      "outputs": [
        {
          "output_type": "stream",
          "name": "stdout",
          "text": [
            "Requirement already satisfied: scikit-learn in /usr/local/lib/python3.11/dist-packages (1.6.1)\n",
            "Requirement already satisfied: numpy>=1.19.5 in /usr/local/lib/python3.11/dist-packages (from scikit-learn) (2.0.2)\n",
            "Requirement already satisfied: scipy>=1.6.0 in /usr/local/lib/python3.11/dist-packages (from scikit-learn) (1.14.1)\n",
            "Requirement already satisfied: joblib>=1.2.0 in /usr/local/lib/python3.11/dist-packages (from scikit-learn) (1.4.2)\n",
            "Requirement already satisfied: threadpoolctl>=3.1.0 in /usr/local/lib/python3.11/dist-packages (from scikit-learn) (3.6.0)\n"
          ]
        }
      ]
    },
    {
      "cell_type": "markdown",
      "source": [
        "# import Python modules"
      ],
      "metadata": {
        "id": "cpkDoGrUsMlL"
      }
    },
    {
      "cell_type": "markdown",
      "source": [
        "This notebook imports a number of Python modules for use in several notebooks."
      ],
      "metadata": {
        "id": "uSnhzxTaLN9l"
      }
    },
    {
      "cell_type": "code",
      "source": [
        "import requests\n",
        "import json\n",
        "import pandas as pd\n",
        "from urllib.request import urlretrieve\n",
        "import numpy as np\n",
        "from sklearn.cluster import KMeans\n",
        "from sklearn_som.som import SOM\n",
        "import matplotlib.pyplot as plt\n",
        "from matplotlib.colors import ListedColormap\n",
        "import scanpy as sc\n",
        "import gseapy as gp\n",
        "from gseapy.plot import gseaplot\n",
        "from pydeseq2.dds import DeseqDataSet\n",
        "from pydeseq2.ds import DeseqStats\n",
        "from gseapy import Msigdb\n",
        "from pybiomart import Server\n",
        "#import mygene\n",
        "import seaborn as sns\n",
        "from sklearn.decomposition import PCA, FastICA\n",
        "from sklearn.cluster import DBSCAN\n",
        "from sklearn.preprocessing import StandardScaler\n",
        "from sklearn.linear_model import LinearRegression\n",
        "from sklearn.linear_model import Ridge\n",
        "from sklearn import linear_model\n",
        "from sklearn.linear_model import TweedieRegressor\n",
        "from sklearn.model_selection import train_test_split\n",
        "from sklearn import metrics\n",
        "from math import log\n",
        "import statsmodels.api as sm\n",
        "import pylab\n",
        "import operator\n",
        "from sklearn.mixture import GaussianMixture\n",
        "from sklearn.ensemble import RandomForestClassifier\n",
        "from sklearn.metrics import accuracy_score, confusion_matrix, precision_score, recall_score, ConfusionMatrixDisplay\n",
        "from sklearn.tree import export_graphviz\n",
        "from IPython.display import Image\n",
        "import graphviz\n",
        "from sklearn.linear_model import LogisticRegression\n",
        "from sklearn.linear_model import Perceptron\n",
        "from sklearn.neural_network import MLPClassifier\n",
        "from sklearn.inspection import permutation_importance\n",
        "from itertools import islice\n",
        "from sklearn.metrics import r2_score\n",
        "from sklearn.metrics import mean_absolute_error\n",
        "from sklearn.metrics import mean_squared_error\n",
        "import matplotlib.pyplot as plt\n",
        "import argparse\n",
        "import scipy.stats as stats\n",
        "from sklearn.inspection import permutation_importance\n",
        "import warnings\n",
        "warnings.filterwarnings('ignore')\n",
        "from Ensembl_converter import EnsemblConverter\n",
        "import shap\n",
        "from sklearn.inspection import permutation_importance\n",
        "from google.colab import data_table\n",
        "#from vega_datasets import data"
      ],
      "metadata": {
        "id": "f079g46t5jTU"
      },
      "execution_count": null,
      "outputs": []
    },
    {
      "cell_type": "code",
      "source": [
        "from itertools import zip_longest"
      ],
      "metadata": {
        "id": "nG3OrUVmOEMF"
      },
      "execution_count": null,
      "outputs": []
    },
    {
      "cell_type": "markdown",
      "source": [
        "# define misc helper methods"
      ],
      "metadata": {
        "id": "xxokeQF9rjFG"
      }
    },
    {
      "cell_type": "code",
      "source": [
        "def set_maxdisplay(n=None):\n",
        "  pd.set_option('display.max_rows', n)\n",
        "  from notebook.services.config import ConfigManager\n",
        "  cm = ConfigManager().update('notebook', {'limit_output': n})"
      ],
      "metadata": {
        "id": "EpOLwn3YqdYA"
      },
      "execution_count": null,
      "outputs": []
    },
    {
      "cell_type": "markdown",
      "source": [
        "# Define data ingestion methods"
      ],
      "metadata": {
        "id": "W_cXRde853Lu"
      }
    },
    {
      "cell_type": "markdown",
      "source": [],
      "metadata": {
        "id": "SCSHct2Opf8X"
      }
    },
    {
      "cell_type": "code",
      "source": [
        "def read_meta_data(dataset):\n",
        "  # so to read data from OSD-XXX, we would add m.read_meta_data('XXX')\n",
        "  # dataset=255\n",
        "  url = 'https://osdr.nasa.gov/geode-py/ws/studies/OSD-' + str(dataset) + '/download?source=datamanager&file=OSD-' + dataset + '_metadata_OSD-' + dataset + '-ISA.zip'\n",
        "  filename = dataset + '-meta.zip'\n",
        "  urlretrieve(url, filename)\n",
        "  !unzip -o {filename} > /dev/null\n",
        "  df = pd.read_csv('s_OSD-' + dataset + '.txt', sep='\\t', header=0)\n",
        "  #puts s_OSD_XXX from zip file into dataframe\n",
        "  return df"
      ],
      "metadata": {
        "id": "LwoDZ49r7i_6"
      },
      "execution_count": null,
      "outputs": []
    },
    {
      "cell_type": "code",
      "source": [
        "def read_rnaseq_data(data):\n",
        "  # data would be 'XXX_rna_seq_Normalized_Counts', or what we wanna see.\n",
        "  #the OSDR \"GeneLab Processed RNA...\" >>\"Aligned Seqence Data\">> \"Normalized counts data\" and in there is csv for normalized rnaseq counts\n",
        "  # we read m.read_rnaseq_data('XXX_rna_seq_Normalized_Counts')\n",
        "  dataset = data.split('_')[0]\n",
        "  url='https://osdr.nasa.gov/geode-py/ws/studies/OSD-' + str(dataset) + '/download?source=datamanager&file=GLDS-' + data + '.csv'\n",
        "  #source'd be 'https://osdr.nasa.gov/geode-py/ws/studies/OSD-XXX/download?source=datamanager&file=GLDS-XXX_rna_seq_Normalized_Counts.csv\n",
        "  df = pd.read_csv(url)\n",
        "  #make df of url data\n",
        "  return df"
      ],
      "metadata": {
        "id": "eOQxRBfUs6Ir"
      },
      "execution_count": null,
      "outputs": []
    },
    {
      "cell_type": "code",
      "source": [
        "def read_phenotype_data(dataset, data):\n",
        "  #dataset = XXX from OSD-XXX\n",
        "  #data is from tabular results files>>alsda processed>> all but the .csv\n",
        "  #this is applicable for tonometry and phenotype stuff. obvs.\n",
        "  # dataset = '557'\n",
        "  # data = 'LSDS-1_immunostaining_microscopy_PNAtr_Transformed_Reusable_Results'\n",
        "  url='https://osdr.nasa.gov//geode-py/ws/studies/OSD-' + str(dataset) + '/download?source=datamanager&file=' + data + '.csv'\n",
        "  df = pd.read_csv(url)\n",
        "  return df"
      ],
      "metadata": {
        "id": "yCVR-HkZn08K"
      },
      "execution_count": null,
      "outputs": []
    },
    {
      "cell_type": "markdown",
      "source": [
        "# define data filtering methods"
      ],
      "metadata": {
        "id": "7Ga9Pbi5rr1R"
      }
    },
    {
      "cell_type": "markdown",
      "source": [
        "# data transformation methods"
      ],
      "metadata": {
        "id": "d4IuHC13rGZv"
      }
    },
    {
      "cell_type": "code",
      "source": [
        "def transpose_df(df, cur_index_col, new_index_col):\n",
        "  #transpose rows w columns\n",
        "  df = df.set_index(cur_index_col).T\n",
        "  df.reset_index(level=0, inplace=True)\n",
        "  cols = [new_index_col] + list(df.columns)[1:]\n",
        "  df.columns = cols\n",
        "  return df"
      ],
      "metadata": {
        "id": "JFOBNzQ-rIW4"
      },
      "execution_count": null,
      "outputs": []
    },
    {
      "cell_type": "markdown",
      "source": [
        "# plotting methods"
      ],
      "metadata": {
        "id": "EYvmAZ627HKz"
      }
    },
    {
      "cell_type": "code",
      "source": [
        "#MODIFIED\n",
        "\n",
        "def plotbox_summary(source,sample_key,field,treatment,space,exclude_samples=[]):\n",
        "  print(\"Observed field: \",field, \"Excluding Samples: \",exclude_samples)\n",
        "  value_dict=dict()\n",
        "  results=dict()\n",
        "  flight=str(field)+'_flight' #category title\n",
        "  nonflight=str(field+'_nonflight')\n",
        "  value_dict[flight]=list()\n",
        "  value_dict[nonflight]=list()    #create lists to hold flight/nonflight cols data\n",
        "  for i in range(len(source)):\n",
        "    if source.iloc[i][sample_key] in exclude_samples:\n",
        "      continue\n",
        "    elif treatment is None:\n",
        "      if source.iloc[i][sample_key].startswith('F'): #F for Flight\n",
        "        value_dict[flight].append(source.iloc[i][field])\n",
        "      else:\n",
        "        value_dict[nonflight].append(source.iloc[i][field])\n",
        "    else:\n",
        "      if source.iloc[i][treatment] == space:\n",
        "        value_dict[flight].append(source.iloc[i][field])\n",
        "      else:\n",
        "        value_dict[nonflight].append(source.iloc[i][field])\n",
        "  d=list(zip_longest(value_dict[flight],value_dict[nonflight],fillvalue=None))\n",
        "\n",
        "  #statistical analysis & p-vals\n",
        "  print(\"n flight = \", len(value_dict[flight]))\n",
        "  print(\"n nonflight = \", len(value_dict[nonflight]))\n",
        "  if len(value_dict[flight])!=0 and len(value_dict[nonflight])!=0:\n",
        "    results[\"P-Value\"]=float('%.5f' % stats.ttest_ind(value_dict[flight],value_dict[nonflight],equal_var=False).pvalue)\n",
        "  print(\"P-Value: \" , results[\"P-Value\"])\n",
        "  return d\n"
      ],
      "metadata": {
        "id": "eJ28lvWeO6GZ"
      },
      "execution_count": null,
      "outputs": []
    },
    {
      "cell_type": "markdown",
      "source": [
        "# machine learning methods\n"
      ],
      "metadata": {
        "id": "3UrOPfUfTfXs"
      }
    },
    {
      "cell_type": "markdown",
      "source": [
        "# Differential gene expression analysis methods\n"
      ],
      "metadata": {
        "id": "4VHHZRwjpvgu"
      }
    },
    {
      "cell_type": "code",
      "source": [
        "#ADDED IN.\n",
        "def samples_to_conditions(dfT,metadata,metadata_condition_param,condition_0,condition_1,alt_cond=None,alt_cond2=None):\n",
        "  #map conditions for sample comparison in deseq2\n",
        "  condition_dict=dict()\n",
        "  for sample in list(dfT['sample']):\n",
        "    val = metadata[metadata['Sample Name']==sample][metadata_condition_param].values[0]\n",
        "    if val == condition_0 or val==alt_cond or val==alt_cond2:\n",
        "      condition_dict[sample]=0\n",
        "    elif val == condition_1:\n",
        "      condition_dict[sample]=1\n",
        "    else:   #this will include anything thats not GC or Spaceflight, or alternate condition (basal..bcwe mapping it to ground)\n",
        "      condition_dict[sample]=-1 #if this were 0...map Other (basal) as ground sample.\n",
        "\n",
        "\n",
        "  dfT[\"condition\"]=dfT[\"sample\"].map(condition_dict)\n",
        "  conditions_all=dfT[['sample','condition']]    #get df of all mapped conditions\n",
        "  other_index=conditions_all[conditions_all['condition']==-1].index         #anything that's not Gc/Spaceflight\n",
        "  conditions=conditions_all.drop(other_index)    #drop noncondition rows\n",
        "  print(metadata['Sample Name'].unique()) #verify all samples included\n",
        "  return conditions_all   #return conditions if ONLY wanting to deal w ground control + spaceflight exclluding basal\n",
        "\n"
      ],
      "metadata": {
        "id": "c01qoCpCmtzL"
      },
      "execution_count": null,
      "outputs": []
    },
    {
      "cell_type": "code",
      "source": [
        "def map_samples_to_conditions(dfT, metadata, metadata_condition_param, condition_0, condition_1):\n",
        "  condition_dict=dict()\n",
        "  for sample in list(dfT['sample']):\n",
        "    val=metadata[metadata['Sample Name']==sample][metadata_condition_param].values[0]\n",
        "\n",
        "    if val == condition_0:\n",
        "      condition_dict[sample] = 0\n",
        "    else:\n",
        "      condition_dict[sample] = 1\n",
        "\n",
        "\n",
        "  dfT[\"condition\"] = dfT[\"sample\"].map(condition_dict)\n",
        "  conditions=dfT[['sample', 'condition']]\n",
        "\n",
        "  return conditions"
      ],
      "metadata": {
        "id": "SAIDHbhepzIO"
      },
      "execution_count": null,
      "outputs": []
    },
    {
      "cell_type": "code",
      "source": [
        "def run_deseq2(df, metadata):\n",
        "  # transpose df\n",
        "  dfT = df.T\n",
        "  dfT.columns=dfT.iloc[0]\n",
        "  dfT=dfT.iloc[1:]\n",
        "  dfT.columns.name=None\n",
        "  dfT = dfT.reset_index().rename(columns={\"index\":\"sample\"})\n",
        "\n",
        "  # map conditions\n",
        "  conditions = map_samples_to_conditions(dfT, metadata, 'Factor Value[Spaceflight]', 'Ground Control', 'Space Flight')\n",
        "\n",
        "  # get count data set up for DESeq2\n",
        "  counts=dfT.drop(columns=['sample', 'condition']).reset_index(drop=True)\n",
        "  counts.applymap(np.isreal)\n",
        "  counts=counts.astype(int)\n",
        "\n",
        "  # run DESeq2\n",
        "  dds=DeseqDataSet(counts=counts, metadata=conditions, design_factors=\"condition\")\n",
        "  dds.deseq2()\n",
        "\n",
        "  return dds"
      ],
      "metadata": {
        "id": "HtFctCTHqdhm"
      },
      "execution_count": null,
      "outputs": []
    },
    {
      "cell_type": "code",
      "source": [
        "def get_results(dds):\n",
        "  # do DGEA\n",
        "  stats_results=DeseqStats(dds, contrast = ('condition', 0, 1))\n",
        "\n",
        "  # run summary\n",
        "  stats_results.summary()\n",
        "\n",
        "  # get differentially expressed genes\n",
        "  res = stats_results.results_df\n",
        "\n",
        "  return res"
      ],
      "metadata": {
        "id": "mtkM88XOqz55"
      },
      "execution_count": null,
      "outputs": []
    },
    {
      "cell_type": "code",
      "source": [
        "def get_sig_genes(res, pval=0.05, l2fc=0):\n",
        "  sigs = res[(res.padj < pval) & (abs(res.log2FoldChange) > l2fc)]\n",
        "  return sigs"
      ],
      "metadata": {
        "id": "LTT1I17Ardvq"
      },
      "execution_count": null,
      "outputs": []
    },
    {
      "cell_type": "code",
      "source": [
        "def get_dge_ranked_genes(res):\n",
        "  # rank genes from most to least significantly differentially expressed\n",
        "  ranking = res[['stat']].dropna().sort_values('stat', ascending=False)\n",
        "  ranking_index=list(ranking.index)\n",
        "  ranking_index_upper=[x.upper() for x in ranking_index]\n",
        "  ranking.index=ranking_index_upper\n",
        "\n",
        "  return ranking"
      ],
      "metadata": {
        "id": "vtkWQuXmrvuI"
      },
      "execution_count": null,
      "outputs": []
    },
    {
      "cell_type": "code",
      "source": [
        "def filter_by_dgea(data, metadata,  pval, l2fc):\n",
        "  # run DESeq2\n",
        "  dds = run_deseq2(data, metadata)\n",
        "\n",
        "  # get results\n",
        "  res = get_results(dds)\n",
        "\n",
        "  # get sig genes\n",
        "  sig_genes_df = get_sig_genes(res, pval=pval, l2fc=l2fc)\n",
        "\n",
        "  # get top sig genes\n",
        "  top_genes = list(sig_genes_df.sort_values('padj').index)\n",
        "\n",
        "  # filter data by topn_genes\n",
        "  return data[data['Unnamed: 0'].isin(top_genes)]\n"
      ],
      "metadata": {
        "id": "OjjASIsmgRx3"
      },
      "execution_count": null,
      "outputs": []
    },
    {
      "cell_type": "code",
      "source": [
        "#MODIFIED.\n",
        "def dgea_table(data, metadata,  pval, l2fc):\n",
        "  # run DESeq2\n",
        "  dds = run_deseq2(data, metadata)\n",
        "\n",
        "  # get results\n",
        "  res = get_results(dds)\n",
        "\n",
        "  return res"
      ],
      "metadata": {
        "id": "uNklhX408KGn"
      },
      "execution_count": null,
      "outputs": []
    },
    {
      "cell_type": "code",
      "source": [
        "#make links in df clicakble\n",
        "def clickable_format(val):\n",
        "  return f'<a target=\"blank\"href=\"{val}\">{val}</a>'\n"
      ],
      "metadata": {
        "id": "GQL8MwTx8QXJ"
      },
      "execution_count": null,
      "outputs": []
    }
  ]
}